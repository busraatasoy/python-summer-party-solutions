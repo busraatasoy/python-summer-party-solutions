{
  "cells": [
    {
      "cell_type": "markdown",
      "metadata": {},
      "source": [
        "# Day 3: Disney Parks Guest Spending Behavior"
      ]
    },
    {
      "cell_type": "markdown",
      "metadata": {},
      "source": [
        "You are a data analyst working with the Disney Parks revenue team to understand nuanced guest spending patterns across different park experiences. The team wants to develop a comprehensive view of visitor purchasing behaviors. Your goal is to uncover meaningful insights that can drive personalized marketing strategies."
      ]
    },
    {
      "cell_type": "code",
      "metadata": {},
      "execution_count": null,
      "outputs": [],
      "source": "import pandas as pd\nimport numpy as np\n\nfct_guest_spending_data = [\n  {\n    \"guest_id\": 1,\n    \"visit_date\": \"2024-07-05\",\n    \"amount_spent\": 50,\n    \"park_experience_type\": \"Attraction\"\n  },\n  {\n    \"guest_id\": 2,\n    \"visit_date\": \"2024-07-06\",\n    \"amount_spent\": 30,\n    \"park_experience_type\": \"Dining\"\n  },\n  {\n    \"guest_id\": 3,\n    \"visit_date\": \"2024-07-10\",\n    \"amount_spent\": 20.5,\n    \"park_experience_type\": \"Retail\"\n  },\n  {\n    \"guest_id\": 4,\n    \"visit_date\": \"2024-07-12\",\n    \"amount_spent\": 40,\n    \"park_experience_type\": \"Entertainment\"\n  },\n  {\n    \"guest_id\": 1,\n    \"visit_date\": \"2024-07-15\",\n    \"amount_spent\": 35,\n    \"park_experience_type\": \"Dining\"\n  },\n  {\n    \"guest_id\": 5,\n    \"visit_date\": \"2024-07-20\",\n    \"amount_spent\": 60,\n    \"park_experience_type\": \"Attraction\"\n  },\n  {\n    \"guest_id\": 6,\n    \"visit_date\": \"2024-07-25\",\n    \"amount_spent\": 25,\n    \"park_experience_type\": \"Retail\"\n  },\n  {\n    \"guest_id\": 1,\n    \"visit_date\": \"2024-08-03\",\n    \"amount_spent\": 55,\n    \"park_experience_type\": \"Attraction\"\n  },\n  {\n    \"guest_id\": 1,\n    \"visit_date\": \"2024-08-15\",\n    \"amount_spent\": 45,\n    \"park_experience_type\": \"Dining\"\n  },\n  {\n    \"guest_id\": 2,\n    \"visit_date\": \"2024-08-05\",\n    \"amount_spent\": 22,\n    \"park_experience_type\": \"Retail\"\n  },\n  {\n    \"guest_id\": 2,\n    \"visit_date\": \"2024-08-20\",\n    \"amount_spent\": 38,\n    \"park_experience_type\": \"Entertainment\"\n  },\n  {\n    \"guest_id\": 7,\n    \"visit_date\": \"2024-08-10\",\n    \"amount_spent\": 15,\n    \"park_experience_type\": \"Character Meet\"\n  },\n  {\n    \"guest_id\": 3,\n    \"visit_date\": \"2024-08-25\",\n    \"amount_spent\": 28,\n    \"park_experience_type\": \"Retail\"\n  },\n  {\n    \"guest_id\": 3,\n    \"visit_date\": \"2024-08-27\",\n    \"amount_spent\": 32,\n    \"park_experience_type\": \"Dining\"\n  },\n  {\n    \"guest_id\": 1,\n    \"visit_date\": \"2024-09-02\",\n    \"amount_spent\": 65,\n    \"park_experience_type\": \"Attraction\"\n  },\n  {\n    \"guest_id\": 8,\n    \"visit_date\": \"2024-09-05\",\n    \"amount_spent\": 50,\n    \"park_experience_type\": \"Retail\"\n  },\n  {\n    \"guest_id\": 9,\n    \"visit_date\": \"2024-09-15\",\n    \"amount_spent\": 40,\n    \"park_experience_type\": \"Dining\"\n  },\n  {\n    \"guest_id\": 10,\n    \"visit_date\": \"2024-09-20\",\n    \"amount_spent\": 70,\n    \"park_experience_type\": \"Entertainment\"\n  },\n  {\n    \"guest_id\": 1,\n    \"visit_date\": \"2024-09-25\",\n    \"amount_spent\": 35,\n    \"park_experience_type\": \"Dining\"\n  },\n  {\n    \"guest_id\": 8,\n    \"visit_date\": \"2024-09-28\",\n    \"amount_spent\": 10,\n    \"park_experience_type\": \"Character Meet\"\n  }\n]\nfct_guest_spending = pd.DataFrame(fct_guest_spending_data)\n"
    },
    {
      "cell_type": "markdown",
      "metadata": {},
      "source": [
        "## Question 1\n\nWhat is the average spending per guest per visit for each park experience type during July 2024? Ensure that park experience types with no recorded transactions are shown with an average spending of 0.0. This analysis helps establish baseline spending differences essential for later segmentation."
      ]
    },
    {
      "cell_type": "code",
      "metadata": {},
      "execution_count": null,
      "outputs": [],
      "source": "# Note: pandas and numpy are already imported as pd and np\n# The following tables are loaded as pandas DataFrames with the same names: fct_guest_spending\n# Please print your final result or dataframe\n\n#convert date to datetime\nfct_guest_spending[\"visit_date\"] = pd.to_datetime(fct_guest_spending[\"visit_date\"])\n\n# Filter July 2024 records\njuly_spending = fct_guest_spending[\n\t(fct_guest_spending[\"visit_date\"].dt.year == 2024) &\n\t(fct_guest_spending[\"visit_date\"].dt.month == 7)\n\n]\n\n# Get list of all park experience types (unique)\nall_experience_types = fct_guest_spending[\"park_experience_type\"].unique()\n\n# Calculate average spending for July 2024\navg_spending = july_spending.groupby(\"park_experience_type\")[\"amount_spent\"].mean().reset_index()\n\n\n# Add 0.0 for experience types that have no action taken\navg_spending = avg_spending.set_index(\"park_experience_type\").reindex(all_experience_types, fill_value=0.0).reset_index()\n\n# Print Result\nprint(\"Average spending per guest per visit for July 2024:\")\nprint(avg_spending)"
    },
    {
      "cell_type": "markdown",
      "metadata": {},
      "source": [
        "## Question 2\n\nFor guests who visited our parks more than once in August 2024, what is the difference in spending between their first and their last visit? This investigation, using sequential analysis, will reveal any shifts in guest spending behavior over multiple visits."
      ]
    },
    {
      "cell_type": "code",
      "metadata": {},
      "execution_count": null,
      "outputs": [],
      "source": "# convert date to datetime\nfct_guest_spending[\"visit_date\"]= pd.to_datetime(fct_guest_spending[\"visit_date\"])\n\n# Filter for August 2024\naugust_spending = fct_guest_spending[\n\t(fct_guest_spending[\"visit_date\"].dt.year == 2024 ) &\n\t(fct_guest_spending[\"visit_date\"].dt.month == 8)\n]\n\n# Select guests with more than 1 visit\nmulti_visitors = august_spending.groupby(\"guest_id\").filter(lambda x: len(x) > 1)\n\n# Find first and last visit expenses\nfirst_last = multi_visitors.sort_values([\"guest_id\", \"visit_date\"]).groupby(\"guest_id\").agg(\n\tfirst_visit = (\"amount_spent\", \"first\"),\n\tlast_visit = (\"amount_spent\", \"last\")\n).reset_index()\n\n# Add the spending difference\nfirst_last[\"spending_difference\"] = first_last[\"last_visit\"] - first_last[\"first_visit\"]\n\n# Print Result\nprint(\"Spending difference between first and last visits in August 2024:\")\nprint(first_last)"
    },
    {
      "cell_type": "markdown",
      "metadata": {},
      "source": [
        "## Question 3\n\nIn September 2024, how can guests be categorized into distinct spending segments such as Low, Medium, and High based on their total spending? Use the following thresholds for categorization: \n-Low: Includes values from $0 up to, but not including, $50.\n-Medium: Includes values from $50 up to, but not including, $100.\n-High: Includes values from $100 and above. \nExclude guests who did not make any purchases in the period."
      ]
    },
    {
      "cell_type": "code",
      "metadata": {},
      "execution_count": null,
      "outputs": [],
      "source": "# Convert date column to datetime\nfct_guest_spending[\"visit_date\"] = pd.to_datetime(fct_guest_spending[\"visit_date\"])\n\n# Filter for September 2024\nseptember_spending = fct_guest_spending[\n    (fct_guest_spending[\"visit_date\"].dt.year == 2024) &\n    (fct_guest_spending[\"visit_date\"].dt.month == 9)\n]\n\n# Calculate total spending per guest\nguest_totals = september_spending.groupby(\"guest_id\")[\"amount_spent\"].sum().reset_index()\n\n#Exclude guests with zero spending\nguest_totals = guest_totals[guest_totals[\"amount_spent\"] > 0]\n\n# Categorize into Low / Medium / Hig\ndef categorize_spending(amount):\n    if amount < 50:\n        return \"Low\"\n    elif amount < 100:\n        return \"Medium\"\n    else:\n        return \"High\"\n\t\t\t\nguest_totals[\"spending_segment\"] = guest_totals[\"amount_spent\"].apply(categorize_spending)\n\n\n# Print detailed results\nprint(\"Guest Spending Segments for September 2024:\")\nprint(guest_totals)\n# Optional: summary count of guests in each segment\nprint(\"\\nSummary of segments:\")\nprint(guest_totals[\"spending_segment\"].value_counts())"
    },
    {
      "cell_type": "markdown",
      "metadata": {},
      "source": [
        "Made with ❤️ by [Interview Master](https://www.interviewmaster.ai)"
      ]
    }
  ],
  "metadata": {
    "kernelspec": {
      "name": "python3",
      "language": "python",
      "display_name": "Python 3"
    },
    "language_info": {
      "name": "python",
      "version": "3",
      "mimetype": "text/x-python",
      "file_extension": ".py"
    }
  },
  "nbformat": 4,
  "nbformat_minor": 5
}